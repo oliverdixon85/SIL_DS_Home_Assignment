{
 "cells": [
  {
   "cell_type": "markdown",
   "metadata": {},
   "source": [
    "## Insert Libraries"
   ]
  },
  {
   "cell_type": "code",
   "execution_count": 1,
   "metadata": {},
   "outputs": [],
   "source": [
    "import pandas as pd\n",
    "import matplotlib.pyplot as plt\n",
    "import seaborn as sns"
   ]
  },
  {
   "cell_type": "code",
   "execution_count": 2,
   "metadata": {},
   "outputs": [],
   "source": [
    "df = pd.read_csv(\"out.csv\")"
   ]
  },
  {
   "cell_type": "code",
   "execution_count": 3,
   "metadata": {},
   "outputs": [
    {
     "data": {
      "text/plain": [
       "(327712, 4)"
      ]
     },
     "execution_count": 3,
     "metadata": {},
     "output_type": "execute_result"
    }
   ],
   "source": [
    "df.shape\n"
   ]
  },
  {
   "cell_type": "code",
   "execution_count": 4,
   "metadata": {},
   "outputs": [
    {
     "data": {
      "text/html": [
       "<div>\n",
       "<style scoped>\n",
       "    .dataframe tbody tr th:only-of-type {\n",
       "        vertical-align: middle;\n",
       "    }\n",
       "\n",
       "    .dataframe tbody tr th {\n",
       "        vertical-align: top;\n",
       "    }\n",
       "\n",
       "    .dataframe thead th {\n",
       "        text-align: right;\n",
       "    }\n",
       "</style>\n",
       "<table border=\"1\" class=\"dataframe\">\n",
       "  <thead>\n",
       "    <tr style=\"text-align: right;\">\n",
       "      <th></th>\n",
       "      <th>ID</th>\n",
       "      <th>title</th>\n",
       "      <th>subject_lang</th>\n",
       "      <th>year</th>\n",
       "    </tr>\n",
       "  </thead>\n",
       "  <tbody>\n",
       "    <tr>\n",
       "      <td>0</td>\n",
       "      <td>17883</td>\n",
       "      <td>Tägufa kea hämprio (Read three languages: Kama...</td>\n",
       "      <td>Kalam [kmh]</td>\n",
       "      <td>1965</td>\n",
       "    </tr>\n",
       "    <tr>\n",
       "      <td>1</td>\n",
       "      <td>38190</td>\n",
       "      <td>Babo bitaro (Big brother) [primer]</td>\n",
       "      <td>Ogea [eri]</td>\n",
       "      <td>1985</td>\n",
       "    </tr>\n",
       "    <tr>\n",
       "      <td>2</td>\n",
       "      <td>159358</td>\n",
       "      <td>Adame eiki (Aids and you) [health book]</td>\n",
       "      <td>Barai [bbb]</td>\n",
       "      <td>1993</td>\n",
       "    </tr>\n",
       "    <tr>\n",
       "      <td>3</td>\n",
       "      <td>142885</td>\n",
       "      <td>God atarre tumaa yenbo: Nupela Testamen (New T...</td>\n",
       "      <td>Yessan-Mayo [yss]</td>\n",
       "      <td>1980</td>\n",
       "    </tr>\n",
       "    <tr>\n",
       "      <td>4</td>\n",
       "      <td>89609</td>\n",
       "      <td>Mini awaan yaa awanduune animan yaningko pariw...</td>\n",
       "      <td>Yonggom [yon]</td>\n",
       "      <td>1999</td>\n",
       "    </tr>\n",
       "    <tr>\n",
       "      <td>...</td>\n",
       "      <td>...</td>\n",
       "      <td>...</td>\n",
       "      <td>...</td>\n",
       "      <td>...</td>\n",
       "    </tr>\n",
       "    <tr>\n",
       "      <td>327707</td>\n",
       "      <td>545015</td>\n",
       "      <td>10. Macbeth through the computer: Literary eva...</td>\n",
       "      <td>NaN</td>\n",
       "      <td>2008</td>\n",
       "    </tr>\n",
       "    <tr>\n",
       "      <td>327708</td>\n",
       "      <td>545016</td>\n",
       "      <td>Language, Discourse, Style. Selected works of ...</td>\n",
       "      <td>NaN</td>\n",
       "      <td>2016</td>\n",
       "    </tr>\n",
       "    <tr>\n",
       "      <td>327709</td>\n",
       "      <td>183356</td>\n",
       "      <td>Synonymy, allomorphy, and free variation in Se...</td>\n",
       "      <td>Selkup [sel] (computerized assignment from \"se...</td>\n",
       "      <td>2004</td>\n",
       "    </tr>\n",
       "    <tr>\n",
       "      <td>327710</td>\n",
       "      <td>320409</td>\n",
       "      <td>Grammatika Slovenska, săveršennago iskusstva o...</td>\n",
       "      <td>Ukrainian [ukr]</td>\n",
       "      <td>1596</td>\n",
       "    </tr>\n",
       "    <tr>\n",
       "      <td>327711</td>\n",
       "      <td>545017</td>\n",
       "      <td>Causative verbs in the grammar of Spanish heri...</td>\n",
       "      <td>Spanish [spa] (computerized assignment from \"s...</td>\n",
       "      <td>2014</td>\n",
       "    </tr>\n",
       "  </tbody>\n",
       "</table>\n",
       "<p>327712 rows × 4 columns</p>\n",
       "</div>"
      ],
      "text/plain": [
       "            ID                                              title  \\\n",
       "0        17883  Tägufa kea hämprio (Read three languages: Kama...   \n",
       "1        38190                 Babo bitaro (Big brother) [primer]   \n",
       "2       159358            Adame eiki (Aids and you) [health book]   \n",
       "3       142885  God atarre tumaa yenbo: Nupela Testamen (New T...   \n",
       "4        89609  Mini awaan yaa awanduune animan yaningko pariw...   \n",
       "...        ...                                                ...   \n",
       "327707  545015  10. Macbeth through the computer: Literary eva...   \n",
       "327708  545016  Language, Discourse, Style. Selected works of ...   \n",
       "327709  183356  Synonymy, allomorphy, and free variation in Se...   \n",
       "327710  320409  Grammatika Slovenska, săveršennago iskusstva o...   \n",
       "327711  545017  Causative verbs in the grammar of Spanish heri...   \n",
       "\n",
       "                                             subject_lang  year  \n",
       "0                                             Kalam [kmh]  1965  \n",
       "1                                              Ogea [eri]  1985  \n",
       "2                                             Barai [bbb]  1993  \n",
       "3                                       Yessan-Mayo [yss]  1980  \n",
       "4                                           Yonggom [yon]  1999  \n",
       "...                                                   ...   ...  \n",
       "327707                                                NaN  2008  \n",
       "327708                                                NaN  2016  \n",
       "327709  Selkup [sel] (computerized assignment from \"se...  2004  \n",
       "327710                                    Ukrainian [ukr]  1596  \n",
       "327711  Spanish [spa] (computerized assignment from \"s...  2014  \n",
       "\n",
       "[327712 rows x 4 columns]"
      ]
     },
     "execution_count": 4,
     "metadata": {},
     "output_type": "execute_result"
    }
   ],
   "source": [
    "df\n"
   ]
  },
  {
   "cell_type": "markdown",
   "metadata": {},
   "source": [
    "It is a big dataset with mainly categorical data and many unique values which will make the data hard to work with."
   ]
  },
  {
   "cell_type": "code",
   "execution_count": 7,
   "metadata": {},
   "outputs": [
    {
     "data": {
      "text/plain": [
       "ID                   0\n",
       "title             2263\n",
       "subject_lang    136384\n",
       "year              6542\n",
       "dtype: int64"
      ]
     },
     "execution_count": 7,
     "metadata": {},
     "output_type": "execute_result"
    }
   ],
   "source": [
    "df.isnull().sum()\n",
    "#find missing data"
   ]
  },
  {
   "cell_type": "code",
   "execution_count": 8,
   "metadata": {},
   "outputs": [
    {
     "data": {
      "text/plain": [
       "<matplotlib.axes._subplots.AxesSubplot at 0x21de0f64dc8>"
      ]
     },
     "execution_count": 8,
     "metadata": {},
     "output_type": "execute_result"
    },
    {
     "data": {
      "image/png": "[encoded data removed]",
      "text/plain": [
       "<Figure size 1728x720 with 3 Axes>"
      ]
     },
     "metadata": {
      "needs_background": "light"
     },
     "output_type": "display_data"
    }
   ],
   "source": [
    "import missingno as msno\n",
    "\n",
    "msno.bar(df) \n",
    "\n",
    "#Visualization of the proportions of missing data."
   ]
  },
  {
   "cell_type": "code",
   "execution_count": 74,
   "metadata": {},
   "outputs": [
    {
     "data": {
      "text/plain": [
       "German [deu] (computerized assignment from \"german\")                                            1317\n",
       "Swahili [swh] (computerized assignment from \"swahili\")                                          1263\n",
       "Spanish [spa] (computerized assignment from \"spanish\")                                          1222\n",
       "French [fra] (computerized assignment from \"french\")                                            1132\n",
       "Hausa [hau] (autotranslated from Maho's coding system)                                          1130\n",
       "Luxembourgish [ltz]                                                                             1029\n",
       "Nde-Nsele-Nta [ndd] (computerized assignment from \"words\")                                       918\n",
       "Japanese [jpn] (computerized assignment from \"not among and not eastern and japanese\")           877\n",
       "Afrikaans [afr] (autotranslated from Maho's coding system)                                       829\n",
       "Nama (Namibia) [naq] (autotranslated from Maho's coding system)                                  804\n",
       "Zulu [zul] (autotranslated from Maho's coding system)                                            758\n",
       "Dutch [nld] (computerized assignment from \"not cape and not colony and not von and dutch\")       705\n",
       "Yup'ik-Central-Alaskan                                                                           701\n",
       "Gwich'in [gwi]                                                                                   688\n",
       "Yoruba [yor] (autotranslated from Maho's coding system)                                          648\n",
       "Aleut [ale]                                                                                      646\n",
       "Tlingit [tli]                                                                                    635\n",
       "Thai [tha] (computerized assignment from \"not n and thai\")                                       585\n",
       "Koyukon [koy]                                                                                    582\n",
       "French [fra] (autotranslated from Maho's coding system)                                          518\n",
       "Italian [ita] (computerized assignment from \"italian\")                                           506\n",
       "Akan [aka] (autotranslated from Maho's coding system)                                            485\n",
       "Xhosa [xho] (autotranslated from Maho's coding system)                                           464\n",
       "Modern Greek [ell] (computerized assignment from \"greek\")                                        455\n",
       "Tswana [tsn] (autotranslated from Maho's coding system)                                          438\n",
       "Ewe [ewe] (autotranslated from Maho's coding system)                                             418\n",
       "Tibetan [bod] (computerized assignment from \"not sino and tibetan\")                              400\n",
       "Shona [sna] (autotranslated from Maho's coding system)                                           388\n",
       "Somali [som] (autotranslated from Maho's coding system)                                          384\n",
       "Aymara, Central [ayr] OR Aymara, Southern [ayc]                                                  381\n",
       "Southern Sotho [sot] (autotranslated from Maho's coding system)                                  367\n",
       "Pulaar [fuc] (autotranslated from Maho's coding system)                                          365\n",
       "Igbo [ibo] (autotranslated from Maho's coding system)                                            354\n",
       "Inupiaq [ipk]                                                                                    354\n",
       "Paraguayan Guaraní [gug]                                                                         349\n",
       "Irish [gle] (computerized assignment from \"irish\")                                               348\n",
       "Pedi [nso] (autotranslated from Maho's coding system)                                            346\n",
       "Tarifit [rif], Tachelhit [shi], Kabyle [kab] (autotranslated from Maho's coding system)          330\n",
       "Burmese [mya] (computerized assignment from \"burmese\")                                           328\n",
       "Amharic [amh] (autotranslated from Maho's coding system)                                         327\n",
       "Haida [hai]                                                                                      324\n",
       "Zimbabwe Sign Language [zib] (computerized assignment from \"academic\")                           321\n",
       "Tsimshian [tsi]                                                                                  321\n",
       "Southern Inland Yuin [NOCODE_Southern-Inland-Yuin] (computerized assignment from \"dialogue\")     319\n",
       "Portuguese [por] (autotranslated from Maho's coding system)                                      316\n",
       "Nyanja [nya] (autotranslated from Maho's coding system)                                          309\n",
       "Tanaina [tfn]                                                                                    303\n",
       "Koongo [kng] (autotranslated from Maho's coding system)                                          302\n",
       "Mapudungun [arn] (computerized assignment from \"mapuche\")                                        292\n",
       "Kaingang [kgp]                                                                                   290\n",
       "Name: subject_lang, dtype: int64"
      ]
     },
     "execution_count": 74,
     "metadata": {},
     "output_type": "execute_result"
    }
   ],
   "source": [
    "df_sub = df['subject_lang'].value_counts()\n",
    "df_sub.head(50)\n",
    "\n",
    "#Count the number of times languages appear"
   ]
  },
  {
   "cell_type": "code",
   "execution_count": 75,
   "metadata": {},
   "outputs": [
    {
     "data": {
      "text/plain": [
       "Guyanese Creole English [gyn] (computerized assignment from \"creolese\")                                                                                                                                                                                                                                                                                                                      1\n",
       "Zakho = Christian Neo-Aramaic of Zakho = Chaldean Neo-Aramaic [cld], Dihok                                                                                                                                                                                                                                                                                                                   1\n",
       "Dan of the canton of Calé = Dan [daf]                                                                                                                                                                                                                                                                                                                                                        1\n",
       "Haida [haid1248]                                                                                                                                                                                                                                                                                                                                                                             1\n",
       "Galla, Wassánie, Waboni = Aweer [bob], Wátua, Wapokomo [pkb]                                                                                                                                                                                                                                                                                                                                 1\n",
       "Sekak [lce]                                                                                                                                                                                                                                                                                                                                                                                  1\n",
       "Alorese [aol] (computerized assignment from \"pantar and pronouns\")                                                                                                                                                                                                                                                                                                                           1\n",
       "Upper Taromi [tov]                                                                                                                                                                                                                                                                                                                                                                           1\n",
       "Adžarskij = Georgian [kat]                                                                                                                                                                                                                                                                                                                                                                   1\n",
       "Senoi = Semai [sea], Tembe = Temiar [tea], Blanja, Slim                                                                                                                                                                                                                                                                                                                                      1\n",
       "Aramo = Pinai-Hagahai [pnn], Haruai [tmd], Kobon [kpw], Kalam [kmh], Gants [gao]                                                                                                                                                                                                                                                                                                             1\n",
       "Gudanji [nji], Muruwari [zmu], Nunggubuyu [nuy], Kalkutung [ktg], Kitja [gia], Wageman [waq], Yalarnnga [ylr], Bardi [bcj]                                                                                                                                                                                                                                                                   1\n",
       "Serer [srr], Wolof [wol], Lebu [NOCODE_Lebu]                                                                                                                                                                                                                                                                                                                                                 1\n",
       "Komodo = Komodo [kvh], Rembong [reb], Palu'e [ple]                                                                                                                                                                                                                                                                                                                                           1\n",
       "Malayo [mbp] (autotranslated from Maho's coding system)                                                                                                                                                                                                                                                                                                                                      1\n",
       "Kamtiga, Awga, Yamma, Naa, She, Doqua, Gazamba, Dawrowa = Dawro [dwr], Kafacco = Kafa [kbr], Gonga, Bija.                                                                                                                                                                                                                                                                                    1\n",
       "Tyo = Teke-Ibali [tek], Téké-Ndumu, Téké-Tsayi, Téké-Banfumu = Teke-Fumu = Teke-Fuumu [ifm], Téké-Zanaga, Téké-Cikuya, Téké-Nkanini, Mbete [mdt], Ndumu = Ndumu [nmd], Tege = Teke-Tege [teg], Duma-Adouma, Wandji, Nzébi-Tcengi, Vili de la Ngounié = Vili of Ngounie [NOCODE_Vili]                                                                                                         1\n",
       "Kande [kbs] (computerized assignment from \"logoue\")                                                                                                                                                                                                                                                                                                                                          1\n",
       "Mampruli (autotyp: 1932 maw mamp1244) = Mampruli [maw]                                                                                                                                                                                                                                                                                                                                       1\n",
       "Maklew [mgf], Jelmek [jel], Mombum [mso]                                                                                                                                                                                                                                                                                                                                                     1\n",
       "Gabrielino = Tongva [xgf]                                                                                                                                                                                                                                                                                                                                                                    1\n",
       "Ketebo = Lango [lno]                                                                                                                                                                                                                                                                                                                                                                         1\n",
       "Winyé [kst], Bimoba [bim], Southern Toussian [wib], Buli (Ghana) [bwu], Western Sisaala [ssl], Moba [mfq], Mossi [mos], Kusaal [kus], Northern Dagara [dgi], Malba Birifor [bfo], Farefare [gur], Sissala [sld], Dagbani [dag], Tumulung Sisaala [sil], Kasem [xsm], Southern Nuni [nnw], Northern Nuni [nuv], Gourmanchéma [gux], Lyélé [lee] (autotranslated from Maho's coding system)    1\n",
       "Slakow = Kendayan [knx], Larah = Lara' [lra]                                                                                                                                                                                                                                                                                                                                                 1\n",
       "Kwoma [kmo] = \"Kwoma 2\"                                                                                                                                                                                                                                                                                                                                                                      1\n",
       "Pp 124 Kaffir lg spoken in Traieguma and Waigul = Waigali [wbk]                                                                                                                                                                                                                                                                                                                              1\n",
       "Keningau = Keningau Murut [kxi], Peluan = Paluan [plz], Rundum = Tagal Murut [mvv], Tengara = Bookan [bnb], Kuijau = Kuijau [dkr], Marudu, Tempasuk = Tempasuk Dusun [tdu], Tuaran, Kiau, Putatan = Bajau-West Coast [bdr], Papar and Tambunan Dusun = Dusun-Tambunan [kzt]                                                                                                                  1\n",
       "Krobu [kxb] (computerized assignment from \"krobou\")                                                                                                                                                                                                                                                                                                                                          1\n",
       "Ethiopoian Pidgin Italian = Italian [ita]                                                                                                                                                                                                                                                                                                                                                    1\n",
       "China Buriat [bxu] (computerized assignment from \"khamnigan\")                                                                                                                                                                                                                                                                                                                                1\n",
       "Walmajarri [wmt], Bunaba [bck]                                                                                                                                                                                                                                                                                                                                                               1\n",
       "Ewe-Anglo-Glidyi = Ewe [ewe], Ewe-Western Interior (Togo), Watyi = Gbe-Waci [wci], Gẽ = Gen [gej], Adja = Aja (Benin) [ajg], Fo-Aizo-Kotafo, Gũ-Popo = Gun [guw], Mahi = Maxi Gbe [mxl], Peda-Hula = Gbe-Western Xwla [xwl], Agonglin (E Dahomey)                                                                                                                                            1\n",
       "Wasulu = Eastern Maninkakan [emk], Jula [dyu], Maninkakan-Eastern [emk], Wojenaka [jod]                                                                                                                                                                                                                                                                                                      1\n",
       "Arrernte, Mullukmulluk [mpb], Laragia [lrg]                                                                                                                                                                                                                                                                                                                                                  1\n",
       "Befang [bby]                                                                                                                                                                                                                                                                                                                                                                                 1\n",
       "Lalo, Southeastern [llz]                                                                                                                                                                                                                                                                                                                                                                     1\n",
       "Bay Bay = Tolomako [tlm]                                                                                                                                                                                                                                                                                                                                                                     1\n",
       "Abbasiya, Tegali [ras]                                                                                                                                                                                                                                                                                                                                                                       1\n",
       "Monba, Tsanglo, Daruang = Digaro-Mishmi [mhu], Geman = Miju-Mishmi [mxj], Idu = Idu-Mishmi [clk], Bogar, Sulong = Puroik in China = Eastern Puroik = Sulung [suv], Dza mixture of Geman and Tibetan = Zakhring [zkr]                                                                                                                                                                         1\n",
       "Surselviscen = Romansch [roh]                                                                                                                                                                                                                                                                                                                                                                1\n",
       "Waisera = Owenia [wsr]                                                                                                                                                                                                                                                                                                                                                                       1\n",
       "Tyanga = Kyenga [tye], Shanga = Shanga [sho]                                                                                                                                                                                                                                                                                                                                                 1\n",
       "Portuguese [por] (computerized assignment from \"portuguese;maputo\")                                                                                                                                                                                                                                                                                                                          1\n",
       "Aromanian [rup] (computerized assignment from \"arma\")                                                                                                                                                                                                                                                                                                                                        1\n",
       "Amarakaeri [amr], Huachipaeri [hug], Katawixi [xat], Katukína-Kanamari [knm]                                                                                                                                                                                                                                                                                                                 1\n",
       "Wari' [pav] (computerized assignment from \"pacaas\")                                                                                                                                                                                                                                                                                                                                          1\n",
       "Bamu-Dibiri, Omati = Mouwase [jmw], Turama-Kiwai, Baru-Kiwai, Oberi-Pepeha = Minanibai-Foia Foia [mcv], Kasere (Kairi) = Rumu [klq]                                                                                                                                                                                                                                                          1\n",
       "Chatisgadhi = Chhattisgarhi [hne], Halbi [hlb], Batari                                                                                                                                                                                                                                                                                                                                       1\n",
       "Lacandon [lac] (computerized assignment from \"lacandon\")                                                                                                                                                                                                                                                                                                                                     1\n",
       "Konkomba [xon], Kabiyé [kbp], Lama (Togo) [las] (autotranslated from Maho's coding system)                                                                                                                                                                                                                                                                                                   1\n",
       "Name: subject_lang, dtype: int64"
      ]
     },
     "execution_count": 75,
     "metadata": {},
     "output_type": "execute_result"
    }
   ],
   "source": [
    "df_sub.tail(50)\n",
    "\n",
    "# Check tail to see which dialets and languages are represented. "
   ]
  },
  {
   "cell_type": "code",
   "execution_count": 73,
   "metadata": {},
   "outputs": [
    {
     "data": {
      "text/plain": [
       "21800"
      ]
     },
     "execution_count": 73,
     "metadata": {},
     "output_type": "execute_result"
    }
   ],
   "source": [
    "df_sub[df_sub == 1].sum()\n",
    "# How many dialects only appear once?"
   ]
  },
  {
   "cell_type": "markdown",
   "metadata": {},
   "source": [
    "Out of the 36036 languages, 21800 are unique languages that only occur once. "
   ]
  },
  {
   "cell_type": "markdown",
   "metadata": {},
   "source": [
    "## Making catergorical bins for years to see which periods are most represented. Results will be subjective could still have some value insight."
   ]
  },
  {
   "cell_type": "code",
   "execution_count": 80,
   "metadata": {},
   "outputs": [
    {
     "data": {
      "text/plain": [
       "0         1965\n",
       "1         1985\n",
       "2         1993\n",
       "3         1980\n",
       "4         1999\n",
       "          ... \n",
       "327707    2008\n",
       "327708    2016\n",
       "327709    2004\n",
       "327710    1596\n",
       "327711    2014\n",
       "Name: year, Length: 327712, dtype: object"
      ]
     },
     "execution_count": 80,
     "metadata": {},
     "output_type": "execute_result"
    }
   ],
   "source": [
    "df['year'].astype(str)"
   ]
  },
  {
   "cell_type": "code",
   "execution_count": 87,
   "metadata": {},
   "outputs": [],
   "source": [
    "df_year = df[(df.year.str.len() == 4)]"
   ]
  },
  {
   "cell_type": "code",
   "execution_count": 88,
   "metadata": {},
   "outputs": [
    {
     "data": {
      "text/html": [
       "<div>\n",
       "<style scoped>\n",
       "    .dataframe tbody tr th:only-of-type {\n",
       "        vertical-align: middle;\n",
       "    }\n",
       "\n",
       "    .dataframe tbody tr th {\n",
       "        vertical-align: top;\n",
       "    }\n",
       "\n",
       "    .dataframe thead th {\n",
       "        text-align: right;\n",
       "    }\n",
       "</style>\n",
       "<table border=\"1\" class=\"dataframe\">\n",
       "  <thead>\n",
       "    <tr style=\"text-align: right;\">\n",
       "      <th></th>\n",
       "      <th>ID</th>\n",
       "      <th>title</th>\n",
       "      <th>subject_lang</th>\n",
       "      <th>year</th>\n",
       "    </tr>\n",
       "  </thead>\n",
       "  <tbody>\n",
       "    <tr>\n",
       "      <td>0</td>\n",
       "      <td>17883</td>\n",
       "      <td>Tägufa kea hämprio (Read three languages: Kama...</td>\n",
       "      <td>Kalam [kmh]</td>\n",
       "      <td>1965</td>\n",
       "    </tr>\n",
       "    <tr>\n",
       "      <td>1</td>\n",
       "      <td>38190</td>\n",
       "      <td>Babo bitaro (Big brother) [primer]</td>\n",
       "      <td>Ogea [eri]</td>\n",
       "      <td>1985</td>\n",
       "    </tr>\n",
       "    <tr>\n",
       "      <td>2</td>\n",
       "      <td>159358</td>\n",
       "      <td>Adame eiki (Aids and you) [health book]</td>\n",
       "      <td>Barai [bbb]</td>\n",
       "      <td>1993</td>\n",
       "    </tr>\n",
       "    <tr>\n",
       "      <td>3</td>\n",
       "      <td>142885</td>\n",
       "      <td>God atarre tumaa yenbo: Nupela Testamen (New T...</td>\n",
       "      <td>Yessan-Mayo [yss]</td>\n",
       "      <td>1980</td>\n",
       "    </tr>\n",
       "    <tr>\n",
       "      <td>4</td>\n",
       "      <td>89609</td>\n",
       "      <td>Mini awaan yaa awanduune animan yaningko pariw...</td>\n",
       "      <td>Yonggom [yon]</td>\n",
       "      <td>1999</td>\n",
       "    </tr>\n",
       "    <tr>\n",
       "      <td>...</td>\n",
       "      <td>...</td>\n",
       "      <td>...</td>\n",
       "      <td>...</td>\n",
       "      <td>...</td>\n",
       "    </tr>\n",
       "    <tr>\n",
       "      <td>327705</td>\n",
       "      <td>123240</td>\n",
       "      <td>Phonology and morphophonemics of the Mixtec of...</td>\n",
       "      <td>Alacatlatzala Mixtec [mim]</td>\n",
       "      <td>1980</td>\n",
       "    </tr>\n",
       "    <tr>\n",
       "      <td>327706</td>\n",
       "      <td>301526</td>\n",
       "      <td>Gramática del Tu'un Savi (la lengua mixteca) d...</td>\n",
       "      <td>Mixteco Alacatlatzala [mim]</td>\n",
       "      <td>2012</td>\n",
       "    </tr>\n",
       "    <tr>\n",
       "      <td>327709</td>\n",
       "      <td>183356</td>\n",
       "      <td>Synonymy, allomorphy, and free variation in Se...</td>\n",
       "      <td>Selkup [sel] (computerized assignment from \"se...</td>\n",
       "      <td>2004</td>\n",
       "    </tr>\n",
       "    <tr>\n",
       "      <td>327710</td>\n",
       "      <td>320409</td>\n",
       "      <td>Grammatika Slovenska, săveršennago iskusstva o...</td>\n",
       "      <td>Ukrainian [ukr]</td>\n",
       "      <td>1596</td>\n",
       "    </tr>\n",
       "    <tr>\n",
       "      <td>327711</td>\n",
       "      <td>545017</td>\n",
       "      <td>Causative verbs in the grammar of Spanish heri...</td>\n",
       "      <td>Spanish [spa] (computerized assignment from \"s...</td>\n",
       "      <td>2014</td>\n",
       "    </tr>\n",
       "  </tbody>\n",
       "</table>\n",
       "<p>180726 rows × 4 columns</p>\n",
       "</div>"
      ],
      "text/plain": [
       "            ID                                              title  \\\n",
       "0        17883  Tägufa kea hämprio (Read three languages: Kama...   \n",
       "1        38190                 Babo bitaro (Big brother) [primer]   \n",
       "2       159358            Adame eiki (Aids and you) [health book]   \n",
       "3       142885  God atarre tumaa yenbo: Nupela Testamen (New T...   \n",
       "4        89609  Mini awaan yaa awanduune animan yaningko pariw...   \n",
       "...        ...                                                ...   \n",
       "327705  123240  Phonology and morphophonemics of the Mixtec of...   \n",
       "327706  301526  Gramática del Tu'un Savi (la lengua mixteca) d...   \n",
       "327709  183356  Synonymy, allomorphy, and free variation in Se...   \n",
       "327710  320409  Grammatika Slovenska, săveršennago iskusstva o...   \n",
       "327711  545017  Causative verbs in the grammar of Spanish heri...   \n",
       "\n",
       "                                             subject_lang  year  \n",
       "0                                             Kalam [kmh]  1965  \n",
       "1                                              Ogea [eri]  1985  \n",
       "2                                             Barai [bbb]  1993  \n",
       "3                                       Yessan-Mayo [yss]  1980  \n",
       "4                                           Yonggom [yon]  1999  \n",
       "...                                                   ...   ...  \n",
       "327705                         Alacatlatzala Mixtec [mim]  1980  \n",
       "327706                        Mixteco Alacatlatzala [mim]  2012  \n",
       "327709  Selkup [sel] (computerized assignment from \"se...  2004  \n",
       "327710                                    Ukrainian [ukr]  1596  \n",
       "327711  Spanish [spa] (computerized assignment from \"s...  2014  \n",
       "\n",
       "[180726 rows x 4 columns]"
      ]
     },
     "execution_count": 88,
     "metadata": {},
     "output_type": "execute_result"
    }
   ],
   "source": [
    "df_year.dropna()"
   ]
  },
  {
   "cell_type": "code",
   "execution_count": 139,
   "metadata": {},
   "outputs": [],
   "source": [
    "year = df_year[df_year.year.apply(lambda x: str(x).isdigit())]"
   ]
  },
  {
   "cell_type": "code",
   "execution_count": 145,
   "metadata": {},
   "outputs": [
    {
     "name": "stderr",
     "output_type": "stream",
     "text": [
      "C:\\Users\\olive\\Anaconda3\\lib\\site-packages\\ipykernel_launcher.py:1: SettingWithCopyWarning: \n",
      "A value is trying to be set on a copy of a slice from a DataFrame.\n",
      "Try using .loc[row_indexer,col_indexer] = value instead\n",
      "\n",
      "See the caveats in the documentation: http://pandas.pydata.org/pandas-docs/stable/user_guide/indexing.html#returning-a-view-versus-a-copy\n",
      "  \"\"\"Entry point for launching an IPython kernel.\n"
     ]
    },
    {
     "data": {
      "text/plain": [
       "ID               int64\n",
       "title           object\n",
       "subject_lang    object\n",
       "year             int32\n",
       "dtype: object"
      ]
     },
     "execution_count": 145,
     "metadata": {},
     "output_type": "execute_result"
    }
   ],
   "source": [
    "year['year'] = year['year'].astype(int)\n",
    "year.dtypes\n"
   ]
  },
  {
   "cell_type": "code",
   "execution_count": 148,
   "metadata": {},
   "outputs": [
    {
     "data": {
      "text/plain": [
       "2019"
      ]
     },
     "execution_count": 148,
     "metadata": {},
     "output_type": "execute_result"
    }
   ],
   "source": [
    "year['year'].max()"
   ]
  },
  {
   "cell_type": "code",
   "execution_count": 160,
   "metadata": {},
   "outputs": [
    {
     "name": "stderr",
     "output_type": "stream",
     "text": [
      "C:\\Users\\olive\\Anaconda3\\lib\\site-packages\\ipykernel_launcher.py:1: SettingWithCopyWarning: \n",
      "A value is trying to be set on a copy of a slice from a DataFrame.\n",
      "Try using .loc[row_indexer,col_indexer] = value instead\n",
      "\n",
      "See the caveats in the documentation: http://pandas.pydata.org/pandas-docs/stable/user_guide/indexing.html#returning-a-view-versus-a-copy\n",
      "  \"\"\"Entry point for launching an IPython kernel.\n"
     ]
    }
   ],
   "source": [
    "df_year['Year_periods'] = pd.cut(year.year,bins=[0,1800,1850,1900,1950,2000,2019],labels=['before 1800','1801-1850',\n",
    "                                                                                          '1851-1900','1901-1950', '1951-2000', 'after 2000'])"
   ]
  },
  {
   "cell_type": "code",
   "execution_count": 164,
   "metadata": {},
   "outputs": [
    {
     "data": {
      "text/plain": [
       "<matplotlib.axes._subplots.AxesSubplot at 0x21def6da5c8>"
      ]
     },
     "execution_count": 164,
     "metadata": {},
     "output_type": "execute_result"
    },
    {
     "data": {
      "image/png": "[encoded data removed]",
      "text/plain": [
       "<Figure size 432x288 with 1 Axes>"
      ]
     },
     "metadata": {
      "needs_background": "light"
     },
     "output_type": "display_data"
    }
   ],
   "source": [
    "sns.countplot(x=\"Year_periods\", data=df_year)\n",
    "#As expected publication numbers are increasing but one can assume that minroty languages and dialect will be more recent publications."
   ]
  },
  {
   "cell_type": "markdown",
   "metadata": {},
   "source": [
    "From a brief exploration of the data it is clear that the data is messy and the categorical nature makes it more difficult to work with. Subject language and year are probably most useful in getting more insight. It is not clear that minority languages have the least publications because it seems like dialects are included in the subject language and we would need more data to get a better understanding of the signifance of dialect juxaposed with major languages. Geographical data of dialects could be helpful in getting a better understanding of which dialects could be grouped together to get a more global understanding. \n"
   ]
  },
  {
   "cell_type": "code",
   "execution_count": null,
   "metadata": {},
   "outputs": [],
   "source": []
  }
 ],
 "metadata": {
  "kernelspec": {
   "display_name": "Python 3",
   "language": "python",
   "name": "python3"
  },
  "language_info": {
   "codemirror_mode": {
    "name": "ipython",
    "version": 3
   },
   "file_extension": ".py",
   "mimetype": "text/x-python",
   "name": "python",
   "nbconvert_exporter": "python",
   "pygments_lexer": "ipython3",
   "version": "3.7.4"
  }
 },
 "nbformat": 4,
 "nbformat_minor": 2
}
